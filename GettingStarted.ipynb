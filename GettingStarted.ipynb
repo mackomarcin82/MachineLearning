{
  "nbformat": 4,
  "nbformat_minor": 0,
  "metadata": {
    "colab": {
      "provenance": [],
      "mount_file_id": "195Kg7zG5WwD-3VYs2z7L9joWk0rMsetP",
      "authorship_tag": "ABX9TyNtQz6oirIE4ZB2/TfNuLXo",
      "include_colab_link": true
    },
    "kernelspec": {
      "name": "python3",
      "display_name": "Python 3"
    },
    "language_info": {
      "name": "python"
    }
  },
  "cells": [
    {
      "cell_type": "markdown",
      "metadata": {
        "id": "view-in-github",
        "colab_type": "text"
      },
      "source": [
        "<a href=\"https://colab.research.google.com/github/mackomarcin82/MachineLearning/blob/main/GettingStarted.ipynb\" target=\"_parent\"><img src=\"https://colab.research.google.com/assets/colab-badge.svg\" alt=\"Open In Colab\"/></a>"
      ]
    },
    {
      "cell_type": "code",
      "execution_count": 2,
      "metadata": {
        "id": "-YlKIRKbdv8t"
      },
      "outputs": [],
      "source": [
        "import polars as pl\n",
        "import datetime as dt"
      ]
    },
    {
      "cell_type": "code",
      "source": [
        "df = pl.DataFrame(\n",
        "    {\n",
        "        \"name\": [\"Alice Archer\", \"Ben Brown\", \"Chloe Cooper\", \"Daniel Donovan\"],\n",
        "        \"birthdate\": [\n",
        "            dt.date(1997, 1, 10),\n",
        "            dt.date(1985, 2, 15),\n",
        "            dt.date(1983, 3, 22),\n",
        "            dt.date(1981, 4, 30),\n",
        "        ],\n",
        "        \"weight\": [57.9, 72.5, 53.6, 83.1],  # (kg)\n",
        "        \"height\": [1.56, 1.77, 1.65, 1.75],  # (m)\n",
        "    }\n",
        ")"
      ],
      "metadata": {
        "id": "EGMtgpfCeJ4X"
      },
      "execution_count": 3,
      "outputs": []
    },
    {
      "cell_type": "code",
      "source": [
        "print(df)"
      ],
      "metadata": {
        "colab": {
          "base_uri": "https://localhost:8080/"
        },
        "id": "4mkZ9G5ceLIO",
        "outputId": "80f95dc9-f0e2-4838-9b12-3431b81fb530"
      },
      "execution_count": 4,
      "outputs": [
        {
          "output_type": "stream",
          "name": "stdout",
          "text": [
            "shape: (4, 4)\n",
            "┌────────────────┬────────────┬────────┬────────┐\n",
            "│ name           ┆ birthdate  ┆ weight ┆ height │\n",
            "│ ---            ┆ ---        ┆ ---    ┆ ---    │\n",
            "│ str            ┆ date       ┆ f64    ┆ f64    │\n",
            "╞════════════════╪════════════╪════════╪════════╡\n",
            "│ Alice Archer   ┆ 1997-01-10 ┆ 57.9   ┆ 1.56   │\n",
            "│ Ben Brown      ┆ 1985-02-15 ┆ 72.5   ┆ 1.77   │\n",
            "│ Chloe Cooper   ┆ 1983-03-22 ┆ 53.6   ┆ 1.65   │\n",
            "│ Daniel Donovan ┆ 1981-04-30 ┆ 83.1   ┆ 1.75   │\n",
            "└────────────────┴────────────┴────────┴────────┘\n"
          ]
        }
      ]
    },
    {
      "cell_type": "code",
      "source": [
        "df.write_csv('/content/sample_data/Polars/output.csv')"
      ],
      "metadata": {
        "id": "AlsD6TS-fooH"
      },
      "execution_count": 6,
      "outputs": []
    },
    {
      "cell_type": "code",
      "source": [
        "df_csv = pl.read_csv(\"/content/sample_data/Polars/output.csv\", try_parse_dates=True)"
      ],
      "metadata": {
        "id": "VKBv46x2f4TI"
      },
      "execution_count": 7,
      "outputs": []
    },
    {
      "cell_type": "code",
      "source": [
        "print(df_csv)"
      ],
      "metadata": {
        "colab": {
          "base_uri": "https://localhost:8080/"
        },
        "id": "-gL1BZm8f80f",
        "outputId": "9b685fcb-c881-4e6a-8e26-4c622ccc01cb"
      },
      "execution_count": 8,
      "outputs": [
        {
          "output_type": "stream",
          "name": "stdout",
          "text": [
            "shape: (4, 4)\n",
            "┌────────────────┬────────────┬────────┬────────┐\n",
            "│ name           ┆ birthdate  ┆ weight ┆ height │\n",
            "│ ---            ┆ ---        ┆ ---    ┆ ---    │\n",
            "│ str            ┆ date       ┆ f64    ┆ f64    │\n",
            "╞════════════════╪════════════╪════════╪════════╡\n",
            "│ Alice Archer   ┆ 1997-01-10 ┆ 57.9   ┆ 1.56   │\n",
            "│ Ben Brown      ┆ 1985-02-15 ┆ 72.5   ┆ 1.77   │\n",
            "│ Chloe Cooper   ┆ 1983-03-22 ┆ 53.6   ┆ 1.65   │\n",
            "│ Daniel Donovan ┆ 1981-04-30 ┆ 83.1   ┆ 1.75   │\n",
            "└────────────────┴────────────┴────────┴────────┘\n"
          ]
        }
      ]
    },
    {
      "cell_type": "code",
      "source": [
        "results = df.select(\n",
        "    pl.col('name'),\n",
        "    pl.col('birthdate').dt.year().alias('year'),\n",
        "    (pl.col('weight') / pl.col('height')**2).alias('bmi')\n",
        "\n",
        ")"
      ],
      "metadata": {
        "id": "zidsK0Tsgwo6"
      },
      "execution_count": 9,
      "outputs": []
    },
    {
      "cell_type": "code",
      "source": [
        "print(results)"
      ],
      "metadata": {
        "colab": {
          "base_uri": "https://localhost:8080/"
        },
        "id": "1T0Fxi6WhI-J",
        "outputId": "d808ca17-6a08-420f-bff3-9520bbd91358"
      },
      "execution_count": 10,
      "outputs": [
        {
          "output_type": "stream",
          "name": "stdout",
          "text": [
            "shape: (4, 3)\n",
            "┌────────────────┬──────┬───────────┐\n",
            "│ name           ┆ year ┆ bmi       │\n",
            "│ ---            ┆ ---  ┆ ---       │\n",
            "│ str            ┆ i32  ┆ f64       │\n",
            "╞════════════════╪══════╪═══════════╡\n",
            "│ Alice Archer   ┆ 1997 ┆ 23.791913 │\n",
            "│ Ben Brown      ┆ 1985 ┆ 23.141498 │\n",
            "│ Chloe Cooper   ┆ 1983 ┆ 19.687787 │\n",
            "│ Daniel Donovan ┆ 1981 ┆ 27.134694 │\n",
            "└────────────────┴──────┴───────────┘\n"
          ]
        }
      ]
    },
    {
      "cell_type": "code",
      "source": [
        "type(results)"
      ],
      "metadata": {
        "colab": {
          "base_uri": "https://localhost:8080/",
          "height": 221
        },
        "id": "eYv4Uqa7hOI5",
        "outputId": "46b2abf0-2f3a-4e80-e092-ca655c757c4f"
      },
      "execution_count": 11,
      "outputs": [
        {
          "output_type": "execute_result",
          "data": {
            "text/plain": [
              "polars.dataframe.frame.DataFrame"
            ],
            "text/html": [
              "<div style=\"max-width:800px; border: 1px solid var(--colab-border-color);\"><style>\n",
              "      pre.function-repr-contents {\n",
              "        overflow-x: auto;\n",
              "        padding: 8px 12px;\n",
              "        max-height: 500px;\n",
              "      }\n",
              "\n",
              "      pre.function-repr-contents.function-repr-contents-collapsed {\n",
              "        cursor: pointer;\n",
              "        max-height: 100px;\n",
              "      }\n",
              "    </style>\n",
              "    <pre style=\"white-space: initial; background:\n",
              "         var(--colab-secondary-surface-color); padding: 8px 12px;\n",
              "         border-bottom: 1px solid var(--colab-border-color);\"><b>polars.dataframe.frame.DataFrame</b><br/>def __init__(data: FrameInitTypes | None=None, schema: SchemaDefinition | None=None, *, schema_overrides: SchemaDict | None=None, strict: bool=True, orient: Orientation | None=None, infer_schema_length: int | None=N_INFER_DEFAULT, nan_to_null: bool=False) -&gt; None</pre><pre class=\"function-repr-contents function-repr-contents-collapsed\" style=\"\"><a class=\"filepath\" style=\"display:none\" href=\"#\">/usr/local/lib/python3.11/dist-packages/polars/dataframe/frame.py</a>Two-dimensional data structure representing data as a table with rows and columns.\n",
              "\n",
              "Parameters\n",
              "----------\n",
              "data : dict, Sequence, ndarray, Series, or pandas.DataFrame\n",
              "    Two-dimensional data in various forms; dict input must contain Sequences,\n",
              "    Generators, or a `range`. Sequence may contain Series or other Sequences.\n",
              "schema : Sequence of str, (str,DataType) pairs, or a {str:DataType,} dict\n",
              "    The schema of the resulting DataFrame. The schema may be declared in several\n",
              "    ways:\n",
              "\n",
              "    * As a dict of {name:type} pairs; if type is None, it will be auto-inferred.\n",
              "    * As a list of column names; in this case types are automatically inferred.\n",
              "    * As a list of (name,type) pairs; this is equivalent to the dictionary form.\n",
              "\n",
              "    If you supply a list of column names that does not match the names in the\n",
              "    underlying data, the names given here will overwrite them. The number\n",
              "    of names given in the schema should match the underlying data dimensions.\n",
              "\n",
              "    If set to `None` (default), the schema is inferred from the data.\n",
              "schema_overrides : dict, default None\n",
              "    Support type specification or override of one or more columns; note that\n",
              "    any dtypes inferred from the schema param will be overridden.\n",
              "\n",
              "    The number of entries in the schema should match the underlying data\n",
              "    dimensions, unless a sequence of dictionaries is being passed, in which case\n",
              "    a *partial* schema can be declared to prevent specific fields from being loaded.\n",
              "strict : bool, default True\n",
              "    Throw an error if any `data` value does not exactly match the given or inferred\n",
              "    data type for that column. If set to `False`, values that do not match the data\n",
              "    type are cast to that data type or, if casting is not possible, set to null\n",
              "    instead.\n",
              "orient : {&#x27;col&#x27;, &#x27;row&#x27;}, default None\n",
              "    Whether to interpret two-dimensional data as columns or as rows. If None,\n",
              "    the orientation is inferred by matching the columns and data dimensions. If\n",
              "    this does not yield conclusive results, column orientation is used.\n",
              "infer_schema_length : int or None\n",
              "    The maximum number of rows to scan for schema inference. If set to `None`, the\n",
              "    full data may be scanned *(this can be slow)*. This parameter only applies if\n",
              "    the input data is a sequence or generator of rows; other input is read as-is.\n",
              "nan_to_null : bool, default False\n",
              "    If the data comes from one or more numpy arrays, can optionally convert input\n",
              "    data np.nan values to null instead. This is a no-op for all other input data.\n",
              "\n",
              "Notes\n",
              "-----\n",
              "Polars explicitly does not support subclassing of its core data types. See\n",
              "the following GitHub issue for possible workarounds:\n",
              "https://github.com/pola-rs/polars/issues/2846#issuecomment-1711799869\n",
              "\n",
              "Examples\n",
              "--------\n",
              "Constructing a DataFrame from a dictionary:\n",
              "\n",
              "&gt;&gt;&gt; data = {&quot;a&quot;: [1, 2], &quot;b&quot;: [3, 4]}\n",
              "&gt;&gt;&gt; df = pl.DataFrame(data)\n",
              "&gt;&gt;&gt; df\n",
              "shape: (2, 2)\n",
              "┌─────┬─────┐\n",
              "│ a   ┆ b   │\n",
              "│ --- ┆ --- │\n",
              "│ i64 ┆ i64 │\n",
              "╞═════╪═════╡\n",
              "│ 1   ┆ 3   │\n",
              "│ 2   ┆ 4   │\n",
              "└─────┴─────┘\n",
              "\n",
              "Notice that the dtypes are automatically inferred as polars Int64:\n",
              "\n",
              "&gt;&gt;&gt; df.dtypes\n",
              "[Int64, Int64]\n",
              "\n",
              "To specify a more detailed/specific frame schema you can supply the `schema`\n",
              "parameter with a dictionary of (name,dtype) pairs...\n",
              "\n",
              "&gt;&gt;&gt; data = {&quot;col1&quot;: [0, 2], &quot;col2&quot;: [3, 7]}\n",
              "&gt;&gt;&gt; df2 = pl.DataFrame(data, schema={&quot;col1&quot;: pl.Float32, &quot;col2&quot;: pl.Int64})\n",
              "&gt;&gt;&gt; df2\n",
              "shape: (2, 2)\n",
              "┌──────┬──────┐\n",
              "│ col1 ┆ col2 │\n",
              "│ ---  ┆ ---  │\n",
              "│ f32  ┆ i64  │\n",
              "╞══════╪══════╡\n",
              "│ 0.0  ┆ 3    │\n",
              "│ 2.0  ┆ 7    │\n",
              "└──────┴──────┘\n",
              "\n",
              "...a sequence of (name,dtype) pairs...\n",
              "\n",
              "&gt;&gt;&gt; data = {&quot;col1&quot;: [1, 2], &quot;col2&quot;: [3, 4]}\n",
              "&gt;&gt;&gt; df3 = pl.DataFrame(data, schema=[(&quot;col1&quot;, pl.Float32), (&quot;col2&quot;, pl.Int64)])\n",
              "&gt;&gt;&gt; df3\n",
              "shape: (2, 2)\n",
              "┌──────┬──────┐\n",
              "│ col1 ┆ col2 │\n",
              "│ ---  ┆ ---  │\n",
              "│ f32  ┆ i64  │\n",
              "╞══════╪══════╡\n",
              "│ 1.0  ┆ 3    │\n",
              "│ 2.0  ┆ 4    │\n",
              "└──────┴──────┘\n",
              "\n",
              "...or a list of typed Series.\n",
              "\n",
              "&gt;&gt;&gt; data = [\n",
              "...     pl.Series(&quot;col1&quot;, [1, 2], dtype=pl.Float32),\n",
              "...     pl.Series(&quot;col2&quot;, [3, 4], dtype=pl.Int64),\n",
              "... ]\n",
              "&gt;&gt;&gt; df4 = pl.DataFrame(data)\n",
              "&gt;&gt;&gt; df4\n",
              "shape: (2, 2)\n",
              "┌──────┬──────┐\n",
              "│ col1 ┆ col2 │\n",
              "│ ---  ┆ ---  │\n",
              "│ f32  ┆ i64  │\n",
              "╞══════╪══════╡\n",
              "│ 1.0  ┆ 3    │\n",
              "│ 2.0  ┆ 4    │\n",
              "└──────┴──────┘\n",
              "\n",
              "Constructing a DataFrame from a numpy ndarray, specifying column names:\n",
              "\n",
              "&gt;&gt;&gt; import numpy as np\n",
              "&gt;&gt;&gt; data = np.array([(1, 2), (3, 4)], dtype=np.int64)\n",
              "&gt;&gt;&gt; df5 = pl.DataFrame(data, schema=[&quot;a&quot;, &quot;b&quot;], orient=&quot;col&quot;)\n",
              "&gt;&gt;&gt; df5\n",
              "shape: (2, 2)\n",
              "┌─────┬─────┐\n",
              "│ a   ┆ b   │\n",
              "│ --- ┆ --- │\n",
              "│ i64 ┆ i64 │\n",
              "╞═════╪═════╡\n",
              "│ 1   ┆ 3   │\n",
              "│ 2   ┆ 4   │\n",
              "└─────┴─────┘\n",
              "\n",
              "Constructing a DataFrame from a list of lists, row orientation specified:\n",
              "\n",
              "&gt;&gt;&gt; data = [[1, 2, 3], [4, 5, 6]]\n",
              "&gt;&gt;&gt; df6 = pl.DataFrame(data, schema=[&quot;a&quot;, &quot;b&quot;, &quot;c&quot;], orient=&quot;row&quot;)\n",
              "&gt;&gt;&gt; df6\n",
              "shape: (2, 3)\n",
              "┌─────┬─────┬─────┐\n",
              "│ a   ┆ b   ┆ c   │\n",
              "│ --- ┆ --- ┆ --- │\n",
              "│ i64 ┆ i64 ┆ i64 │\n",
              "╞═════╪═════╪═════╡\n",
              "│ 1   ┆ 2   ┆ 3   │\n",
              "│ 4   ┆ 5   ┆ 6   │\n",
              "└─────┴─────┴─────┘</pre>\n",
              "      <script>\n",
              "      if (google.colab.kernel.accessAllowed && google.colab.files && google.colab.files.view) {\n",
              "        for (const element of document.querySelectorAll('.filepath')) {\n",
              "          element.style.display = 'block'\n",
              "          element.onclick = (event) => {\n",
              "            event.preventDefault();\n",
              "            event.stopPropagation();\n",
              "            google.colab.files.view(element.textContent, 193);\n",
              "          };\n",
              "        }\n",
              "      }\n",
              "      for (const element of document.querySelectorAll('.function-repr-contents')) {\n",
              "        element.onclick = (event) => {\n",
              "          event.preventDefault();\n",
              "          event.stopPropagation();\n",
              "          element.classList.toggle('function-repr-contents-collapsed');\n",
              "        };\n",
              "      }\n",
              "      </script>\n",
              "      </div>"
            ]
          },
          "metadata": {},
          "execution_count": 11
        }
      ]
    },
    {
      "cell_type": "code",
      "source": [
        "result = df.select(\n",
        "    pl.col('name'),\n",
        "    (pl.col('weight','height') * 0.95).round(2).name.suffix('-5%')\n",
        "\n",
        ")\n",
        "print(result)"
      ],
      "metadata": {
        "colab": {
          "base_uri": "https://localhost:8080/"
        },
        "id": "npfhpd9ghjZi",
        "outputId": "964a8669-28d8-4ed0-8082-552ce23c7b07"
      },
      "execution_count": 12,
      "outputs": [
        {
          "output_type": "stream",
          "name": "stdout",
          "text": [
            "shape: (4, 3)\n",
            "┌────────────────┬───────────┬───────────┐\n",
            "│ name           ┆ weight-5% ┆ height-5% │\n",
            "│ ---            ┆ ---       ┆ ---       │\n",
            "│ str            ┆ f64       ┆ f64       │\n",
            "╞════════════════╪═══════════╪═══════════╡\n",
            "│ Alice Archer   ┆ 55.01     ┆ 1.48      │\n",
            "│ Ben Brown      ┆ 68.88     ┆ 1.68      │\n",
            "│ Chloe Cooper   ┆ 50.92     ┆ 1.57      │\n",
            "│ Daniel Donovan ┆ 78.94     ┆ 1.66      │\n",
            "└────────────────┴───────────┴───────────┘\n"
          ]
        }
      ]
    },
    {
      "cell_type": "code",
      "source": [
        "result = df.with_columns(\n",
        "    birth_year = pl.col('birthdate').dt.year(),\n",
        "    bmi = (pl.col('weight') / pl.col('height')**2).round(2)\n",
        "\n",
        ")\n",
        "print(result)"
      ],
      "metadata": {
        "colab": {
          "base_uri": "https://localhost:8080/"
        },
        "id": "leyHTRJmiHp_",
        "outputId": "c4674b6a-cc26-4708-902e-078efc623ed1"
      },
      "execution_count": 13,
      "outputs": [
        {
          "output_type": "stream",
          "name": "stdout",
          "text": [
            "shape: (4, 6)\n",
            "┌────────────────┬────────────┬────────┬────────┬────────────┬───────┐\n",
            "│ name           ┆ birthdate  ┆ weight ┆ height ┆ birth_year ┆ bmi   │\n",
            "│ ---            ┆ ---        ┆ ---    ┆ ---    ┆ ---        ┆ ---   │\n",
            "│ str            ┆ date       ┆ f64    ┆ f64    ┆ i32        ┆ f64   │\n",
            "╞════════════════╪════════════╪════════╪════════╪════════════╪═══════╡\n",
            "│ Alice Archer   ┆ 1997-01-10 ┆ 57.9   ┆ 1.56   ┆ 1997       ┆ 23.79 │\n",
            "│ Ben Brown      ┆ 1985-02-15 ┆ 72.5   ┆ 1.77   ┆ 1985       ┆ 23.14 │\n",
            "│ Chloe Cooper   ┆ 1983-03-22 ┆ 53.6   ┆ 1.65   ┆ 1983       ┆ 19.69 │\n",
            "│ Daniel Donovan ┆ 1981-04-30 ┆ 83.1   ┆ 1.75   ┆ 1981       ┆ 27.13 │\n",
            "└────────────────┴────────────┴────────┴────────┴────────────┴───────┘\n"
          ]
        }
      ]
    },
    {
      "cell_type": "code",
      "source": [
        "result = df.filter(pl.col('birthdate').dt.year() > 1985)\n",
        "print(result)"
      ],
      "metadata": {
        "colab": {
          "base_uri": "https://localhost:8080/"
        },
        "id": "AN8O0NmsjXP3",
        "outputId": "a0f149b6-22c3-42d3-b3f1-f93580712f46"
      },
      "execution_count": 14,
      "outputs": [
        {
          "output_type": "stream",
          "name": "stdout",
          "text": [
            "shape: (1, 4)\n",
            "┌──────────────┬────────────┬────────┬────────┐\n",
            "│ name         ┆ birthdate  ┆ weight ┆ height │\n",
            "│ ---          ┆ ---        ┆ ---    ┆ ---    │\n",
            "│ str          ┆ date       ┆ f64    ┆ f64    │\n",
            "╞══════════════╪════════════╪════════╪════════╡\n",
            "│ Alice Archer ┆ 1997-01-10 ┆ 57.9   ┆ 1.56   │\n",
            "└──────────────┴────────────┴────────┴────────┘\n"
          ]
        }
      ]
    },
    {
      "cell_type": "code",
      "source": [
        "result = df.filter(\n",
        "    pl.col(\"birthdate\").is_between(dt.date(1982, 12, 31), dt.date(1996, 1, 1)),\n",
        "    pl.col(\"height\") > 1.7,\n",
        ")\n",
        "print(result)"
      ],
      "metadata": {
        "colab": {
          "base_uri": "https://localhost:8080/"
        },
        "id": "eKrQqxD1jwbv",
        "outputId": "a9406585-4142-4fb2-f427-35b69a829e6e"
      },
      "execution_count": 15,
      "outputs": [
        {
          "output_type": "stream",
          "name": "stdout",
          "text": [
            "shape: (1, 4)\n",
            "┌───────────┬────────────┬────────┬────────┐\n",
            "│ name      ┆ birthdate  ┆ weight ┆ height │\n",
            "│ ---       ┆ ---        ┆ ---    ┆ ---    │\n",
            "│ str       ┆ date       ┆ f64    ┆ f64    │\n",
            "╞═══════════╪════════════╪════════╪════════╡\n",
            "│ Ben Brown ┆ 1985-02-15 ┆ 72.5   ┆ 1.77   │\n",
            "└───────────┴────────────┴────────┴────────┘\n"
          ]
        }
      ]
    },
    {
      "cell_type": "code",
      "source": [
        "result = df.group_by(\n",
        "    (pl.col(\"birthdate\").dt.year() // 10 * 10).alias(\"decade\"),\n",
        "    maintain_order=True,\n",
        ").len()\n",
        "print(result)"
      ],
      "metadata": {
        "colab": {
          "base_uri": "https://localhost:8080/"
        },
        "id": "JvPGBddGkoop",
        "outputId": "6298c3b1-d0d2-46d7-ccca-07d107edbccd"
      },
      "execution_count": 16,
      "outputs": [
        {
          "output_type": "stream",
          "name": "stdout",
          "text": [
            "shape: (2, 2)\n",
            "┌────────┬─────┐\n",
            "│ decade ┆ len │\n",
            "│ ---    ┆ --- │\n",
            "│ i32    ┆ u32 │\n",
            "╞════════╪═════╡\n",
            "│ 1990   ┆ 1   │\n",
            "│ 1980   ┆ 3   │\n",
            "└────────┴─────┘\n"
          ]
        }
      ]
    },
    {
      "cell_type": "code",
      "source": [
        "result = df.group_by(\n",
        "    (pl.col(\"birthdate\").dt.year() // 10 * 10).alias(\"decade\"),\n",
        "    maintain_order=True,\n",
        ").agg(\n",
        "    pl.len().alias(\"sample_size\"),\n",
        "    pl.col(\"weight\").mean().round(2).alias(\"avg_weight\"),\n",
        "    pl.col(\"height\").max().alias(\"tallest\"),\n",
        ")\n",
        "print(result)"
      ],
      "metadata": {
        "colab": {
          "base_uri": "https://localhost:8080/"
        },
        "id": "H4QyBwcJlo0m",
        "outputId": "104295b3-83d7-44e1-e6ae-6c3f8b1d8d57"
      },
      "execution_count": 17,
      "outputs": [
        {
          "output_type": "stream",
          "name": "stdout",
          "text": [
            "shape: (2, 4)\n",
            "┌────────┬─────────────┬────────────┬─────────┐\n",
            "│ decade ┆ sample_size ┆ avg_weight ┆ tallest │\n",
            "│ ---    ┆ ---         ┆ ---        ┆ ---     │\n",
            "│ i32    ┆ u32         ┆ f64        ┆ f64     │\n",
            "╞════════╪═════════════╪════════════╪═════════╡\n",
            "│ 1990   ┆ 1           ┆ 57.9       ┆ 1.56    │\n",
            "│ 1980   ┆ 3           ┆ 69.73      ┆ 1.77    │\n",
            "└────────┴─────────────┴────────────┴─────────┘\n"
          ]
        }
      ]
    },
    {
      "cell_type": "code",
      "source": [
        "result = (\n",
        "    df.with_columns(\n",
        "        (pl.col(\"birthdate\").dt.year() // 10 * 10).alias(\"decade\"),\n",
        "        pl.col(\"name\").str.split(by=\" \").list.first(),\n",
        "    )\n",
        "    .select(\n",
        "        pl.all().exclude(\"birthdate\"),\n",
        "    )\n",
        "    .group_by(\n",
        "        pl.col(\"decade\"),\n",
        "        maintain_order=True,\n",
        "    )\n",
        "    .agg(\n",
        "        pl.col(\"name\"),\n",
        "        pl.col(\"weight\", \"height\").mean().round(2).name.prefix(\"avg_\"),\n",
        "    )\n",
        ")\n",
        "print(result)"
      ],
      "metadata": {
        "colab": {
          "base_uri": "https://localhost:8080/"
        },
        "id": "Zpd55JUgpHV6",
        "outputId": "5e63baba-536d-4db5-ddb8-ed00c0c9da20"
      },
      "execution_count": 18,
      "outputs": [
        {
          "output_type": "stream",
          "name": "stdout",
          "text": [
            "shape: (2, 4)\n",
            "┌────────┬────────────────────────────┬────────────┬────────────┐\n",
            "│ decade ┆ name                       ┆ avg_weight ┆ avg_height │\n",
            "│ ---    ┆ ---                        ┆ ---        ┆ ---        │\n",
            "│ i32    ┆ list[str]                  ┆ f64        ┆ f64        │\n",
            "╞════════╪════════════════════════════╪════════════╪════════════╡\n",
            "│ 1990   ┆ [\"Alice\"]                  ┆ 57.9       ┆ 1.56       │\n",
            "│ 1980   ┆ [\"Ben\", \"Chloe\", \"Daniel\"] ┆ 69.73      ┆ 1.72       │\n",
            "└────────┴────────────────────────────┴────────────┴────────────┘\n"
          ]
        }
      ]
    },
    {
      "cell_type": "code",
      "source": [
        "df2 = pl.DataFrame(\n",
        "    {\n",
        "        \"name\": [\"Ben Brown\", \"Daniel Donovan\", \"Alice Archer\", \"Chloe Cooper\"],\n",
        "        \"parent\": [True, False, False, False],\n",
        "        \"siblings\": [1, 2, 3, 4],\n",
        "    }\n",
        ")\n",
        "\n",
        "print(df.join(df2, on=\"name\", how=\"left\"))"
      ],
      "metadata": {
        "colab": {
          "base_uri": "https://localhost:8080/"
        },
        "id": "JHbcnl94DmpJ",
        "outputId": "1eb4d2e2-ada1-401c-8b3d-63b0bd5c0344"
      },
      "execution_count": 19,
      "outputs": [
        {
          "output_type": "stream",
          "name": "stdout",
          "text": [
            "shape: (4, 6)\n",
            "┌────────────────┬────────────┬────────┬────────┬────────┬──────────┐\n",
            "│ name           ┆ birthdate  ┆ weight ┆ height ┆ parent ┆ siblings │\n",
            "│ ---            ┆ ---        ┆ ---    ┆ ---    ┆ ---    ┆ ---      │\n",
            "│ str            ┆ date       ┆ f64    ┆ f64    ┆ bool   ┆ i64      │\n",
            "╞════════════════╪════════════╪════════╪════════╪════════╪══════════╡\n",
            "│ Alice Archer   ┆ 1997-01-10 ┆ 57.9   ┆ 1.56   ┆ false  ┆ 3        │\n",
            "│ Ben Brown      ┆ 1985-02-15 ┆ 72.5   ┆ 1.77   ┆ true   ┆ 1        │\n",
            "│ Chloe Cooper   ┆ 1983-03-22 ┆ 53.6   ┆ 1.65   ┆ false  ┆ 4        │\n",
            "│ Daniel Donovan ┆ 1981-04-30 ┆ 83.1   ┆ 1.75   ┆ false  ┆ 2        │\n",
            "└────────────────┴────────────┴────────┴────────┴────────┴──────────┘\n"
          ]
        }
      ]
    },
    {
      "cell_type": "code",
      "source": [
        "df3 = pl.DataFrame(\n",
        "    {\n",
        "        \"name\": [\"Ethan Edwards\", \"Fiona Foster\", \"Grace Gibson\", \"Henry Harris\"],\n",
        "        \"birthdate\": [\n",
        "            dt.date(1977, 5, 10),\n",
        "            dt.date(1975, 6, 23),\n",
        "            dt.date(1973, 7, 22),\n",
        "            dt.date(1971, 8, 3),\n",
        "        ],\n",
        "        \"weight\": [67.9, 72.5, 57.6, 93.1],  # (kg)\n",
        "        \"height\": [1.76, 1.6, 1.66, 1.8],  # (m)\n",
        "    }\n",
        ")\n",
        "\n",
        "print(pl.concat([df, df3], how=\"vertical\"))"
      ],
      "metadata": {
        "colab": {
          "base_uri": "https://localhost:8080/"
        },
        "id": "NC1klo9tFNZk",
        "outputId": "52c6a77d-9bf3-4a1a-fa51-1767b5524ea0"
      },
      "execution_count": 20,
      "outputs": [
        {
          "output_type": "stream",
          "name": "stdout",
          "text": [
            "shape: (8, 4)\n",
            "┌────────────────┬────────────┬────────┬────────┐\n",
            "│ name           ┆ birthdate  ┆ weight ┆ height │\n",
            "│ ---            ┆ ---        ┆ ---    ┆ ---    │\n",
            "│ str            ┆ date       ┆ f64    ┆ f64    │\n",
            "╞════════════════╪════════════╪════════╪════════╡\n",
            "│ Alice Archer   ┆ 1997-01-10 ┆ 57.9   ┆ 1.56   │\n",
            "│ Ben Brown      ┆ 1985-02-15 ┆ 72.5   ┆ 1.77   │\n",
            "│ Chloe Cooper   ┆ 1983-03-22 ┆ 53.6   ┆ 1.65   │\n",
            "│ Daniel Donovan ┆ 1981-04-30 ┆ 83.1   ┆ 1.75   │\n",
            "│ Ethan Edwards  ┆ 1977-05-10 ┆ 67.9   ┆ 1.76   │\n",
            "│ Fiona Foster   ┆ 1975-06-23 ┆ 72.5   ┆ 1.6    │\n",
            "│ Grace Gibson   ┆ 1973-07-22 ┆ 57.6   ┆ 1.66   │\n",
            "│ Henry Harris   ┆ 1971-08-03 ┆ 93.1   ┆ 1.8    │\n",
            "└────────────────┴────────────┴────────┴────────┘\n"
          ]
        }
      ]
    }
  ]
}